{
 "cells": [
  {
   "cell_type": "code",
   "execution_count": 1,
   "metadata": {},
   "outputs": [],
   "source": [
    "import pickle\n",
    "\n",
    "import pandas as pd\n",
    "import numpy as np\n",
    "\n",
    "import torch\n",
    "import torch.nn as nn\n",
    "import torch.nn.functional as F\n",
    "from torch.utils.data import Dataset, DataLoader\n",
    "import torch_optimizer as optim\n",
    "\n",
    "import os\n",
    "import glob\n",
    "import multiprocessing as mp\n",
    "import pefile\n",
    "\n",
    "from tqdm.notebook import tqdm\n",
    "from src.model import Network\n",
    "from pathlib import Path\n",
    "\n",
    "from sklearn.feature_extraction import FeatureHasher\n",
    "from sklearn.model_selection import StratifiedKFold as KFold\n",
    "from sklearn.model_selection import train_test_split\n",
    "from sklearn.metrics import accuracy_score\n",
    "from sklearn.metrics import precision_score\n",
    "from sklearn.metrics import recall_score\n",
    "from sklearn.metrics import f1_score"
   ]
  },
  {
   "cell_type": "code",
   "execution_count": 4,
   "metadata": {},
   "outputs": [],
   "source": [
    "def read_json(path):\n",
    "    with open(path, \"r\") as f:\n",
    "        return json.load(f)\n",
    "    \n",
    "def load_pickle(path):\n",
    "    with open(path, \"rb\") as f:\n",
    "        return pickle.load(f)\n",
    "    \n",
    "def dump_pickle(vector, path):\n",
    "    with open(path, \"wb\") as f:\n",
    "        pickle.dump(vector, f)\n",
    "\n",
    "def get_label_table(path):\n",
    "    table = dict()\n",
    "    with open(path, \"r\") as f:\n",
    "        for line in f.readlines()[1:]:\n",
    "            md5, label = line.strip().split(\",\")\n",
    "            table[md5] = int(label)\n",
    "    return table\n",
    "\n",
    "def iat_embedding(functions):\n",
    "    if len(functions) < MAX_LEN:\n",
    "        functions += [\"<pad>\"] * (MAX_LEN - len(functions))\n",
    "    else:\n",
    "        functions = functions[:MAX_LEN]\n",
    "    \n",
    "    \n",
    "    embedded_vector = []\n",
    "    for function in functions:\n",
    "        if function in word_to_index:\n",
    "            index = word_to_index[function]\n",
    "        else:\n",
    "            index = word_to_index[\"<unk>\"]\n",
    "            \n",
    "        embedded_vector.append(embedding_table[index])\n",
    "    return np.array(embedded_vector)\n",
    "\n",
    "def load_vectors(base_path):\n",
    "    vectors, labels = [], []\n",
    "    for path in tqdm(glob.glob(base_path)):\n",
    "        md5 = os.path.basename(path)[:-4]+'.vir'\n",
    "        if md5 in label_table:\n",
    "            vectors.append(load_pickle(path))\n",
    "            labels.append(label_table[md5])\n",
    "    return np.array(vectors), np.array(labels)\n",
    "\n",
    "def load_iat_with_processing(base_path):\n",
    "    vectors, labels = [], []\n",
    "    for path in tqdm(glob.glob(base_path)):\n",
    "        md5 = os.path.basename(path)[:-4] +'.vir'\n",
    "        if md5 in label_table:\n",
    "            vectors.append(iat_embedding(load_pickle(path)))\n",
    "            labels.append(int(label_table[md5]))\n",
    "    return np.array(vectors), np.array(labels)\n",
    "\n",
    "\n",
    "word_to_index = load_pickle(\"word_to_index.pkl\")\n",
    "index_to_word = load_pickle(\"index_to_word.pkl\")"
   ]
  },
  {
   "cell_type": "code",
   "execution_count": 5,
   "metadata": {},
   "outputs": [
    {
     "data": {
      "application/vnd.jupyter.widget-view+json": {
       "model_id": "dd45de6ef4cc49c9a6cd8f4fef781c5f",
       "version_major": 2,
       "version_minor": 0
      },
      "text/plain": [
       "HBox(children=(IntProgress(value=0, max=38198), HTML(value='')))"
      ]
     },
     "metadata": {},
     "output_type": "display_data"
    },
    {
     "name": "stdout",
     "output_type": "stream",
     "text": [
      "\n"
     ]
    }
   ],
   "source": [
    "MAX_LEN = 2510\n",
    "class ApiDataset(Dataset):\n",
    "    def __init__(self, data_path):\n",
    "        self.X, self.y = load_iat_with_processing(data_path)\n",
    "        \n",
    "    def __len__(self):\n",
    "        return len(self.X)\n",
    "    \n",
    "    def __getitem__(self, idx):\n",
    "        item = dict()\n",
    "        item[\"input\"] = torch.from_numpy(self.X[idx])\n",
    "        item[\"target\"] = torch.Tensor([self.y[idx]]).type(torch.long)\n",
    "        return item\n",
    "        \n",
    "label_table = get_label_table(\"label.csv\")\n",
    "embedding_table = torch.load(\"Pretrained_Apicall_Vector_100.pkl\")\n",
    "\n",
    "dataset = DataLoader(ApiDataset(\"data/api_sequence_deduplicated/*\"), batch_size=4, shuffle=True)"
   ]
  },
  {
   "cell_type": "code",
   "execution_count": 7,
   "metadata": {},
   "outputs": [
    {
     "name": "stdout",
     "output_type": "stream",
     "text": [
      "cuda\n"
     ]
    },
    {
     "data": {
      "application/vnd.jupyter.widget-view+json": {
       "model_id": "cab361f32b7e46d89b459484e8b21005",
       "version_major": 2,
       "version_minor": 0
      },
      "text/plain": [
       "HBox(children=(IntProgress(value=0, description='training', max=20, style=ProgressStyle(description_width='ini…"
      ]
     },
     "metadata": {},
     "output_type": "display_data"
    },
    {
     "name": "stdout",
     "output_type": "stream",
     "text": [
      "Loss:  3.919131479321333\n",
      "Loss:  3.8785401190526585\n",
      "Loss:  3.878525061537863\n",
      "Loss:  3.8785244422635685\n",
      "Loss:  3.878524388183339\n",
      "Loss:  3.8785243427734892\n",
      "Loss:  3.878524306742494\n",
      "Loss:  3.8785243288738918\n",
      "Loss:  3.8785243083956016\n",
      "Loss:  3.8785243371394293\n",
      "Loss:  3.878524341322803\n",
      "Loss:  3.8785243037061745\n",
      "Loss:  3.878524303773648\n",
      "Loss:  3.8785243054604925\n",
      "Loss:  3.878524303503753\n",
      "Loss:  3.878524304988176\n",
      "Loss:  3.878524303739911\n",
      "Loss:  3.878524304144754\n",
      "Loss:  3.87852430353749\n",
      "Loss:  3.878524318550405\n",
      "\n"
     ]
    }
   ],
   "source": [
    "from tqdm.notebook import trange\n",
    "import sys\n",
    "\n",
    "device = torch.device(\"cuda\" if torch.cuda.is_available() else \"cpu\")\n",
    "print(device)\n",
    "\n",
    "loss_function = nn.CrossEntropyLoss()\n",
    "net = Network(input_shape=MAX_LEN)\n",
    "optimizer = optim.RAdam(net.parameters(),  lr = 0.001)\n",
    "# early_stopping = EarlyStopping(patience=5, min_percent_gain=1)\n",
    "\n",
    "n_epochs = 20\n",
    "epochs = trange(n_epochs, desc=\"training\")\n",
    "best = {\"loss\": sys.float_info.max}\n",
    "\n",
    "net = net.to(device)\n",
    "total_loss = []\n",
    "for epoch in epochs:\n",
    "    losses = []\n",
    "    for batch in dataset:\n",
    "        net.zero_grad()\n",
    "        input_data, target_data = batch[\"input\"], batch[\"target\"]\n",
    "        input_data = input_data.to(device)\n",
    "        target_data = target_data.to(device)\n",
    "\n",
    "        output = net(input_data)\n",
    "        loss = loss_function(output, target_data)\n",
    "        loss.backward()\n",
    "        optimizer.step()\n",
    "        iter_loss = loss.item()\n",
    "        losses.append(iter_loss)\n",
    "    epoch_loss = np.mean(losses)\n",
    "    total_loss.append(epoch_loss)\n",
    "    print(\"Loss: \", epoch_loss)\n",
    "    epochs.set_postfix_str(f\"loss: {epoch_loss:.6f}\")\n",
    "    if epoch_loss < best[\"loss\"]:\n",
    "        best[\"state\"] = net.state_dict()\n",
    "        best[\"loss\"] = epoch_loss\n",
    "        best[\"epoch\"] = epoch + 1\n"
   ]
  },
  {
   "cell_type": "code",
   "execution_count": 8,
   "metadata": {},
   "outputs": [
    {
     "data": {
      "text/plain": [
       "([<matplotlib.axis.XTick at 0x2be3bba6508>,\n",
       "  <matplotlib.axis.XTick at 0x2be3bb8db88>,\n",
       "  <matplotlib.axis.XTick at 0x2be3bb8d548>,\n",
       "  <matplotlib.axis.XTick at 0x2b5dfc59e48>,\n",
       "  <matplotlib.axis.XTick at 0x2b5dfc626c8>,\n",
       "  <matplotlib.axis.XTick at 0x2b5dfc66288>,\n",
       "  <matplotlib.axis.XTick at 0x2b5dfc66b48>,\n",
       "  <matplotlib.axis.XTick at 0x2b5dfc6a148>,\n",
       "  <matplotlib.axis.XTick at 0x2b5dfc6ad88>,\n",
       "  <matplotlib.axis.XTick at 0x2b5dfc6d908>,\n",
       "  <matplotlib.axis.XTick at 0x2b5dfc71448>,\n",
       "  <matplotlib.axis.XTick at 0x2b5dfc75088>,\n",
       "  <matplotlib.axis.XTick at 0x2b5dfc75b08>,\n",
       "  <matplotlib.axis.XTick at 0x2b5dfc79688>,\n",
       "  <matplotlib.axis.XTick at 0x2b5dfc7c288>,\n",
       "  <matplotlib.axis.XTick at 0x2b5dfc79dc8>,\n",
       "  <matplotlib.axis.XTick at 0x2b5dfc7c808>,\n",
       "  <matplotlib.axis.XTick at 0x2b5dfc80308>,\n",
       "  <matplotlib.axis.XTick at 0x2b5dfc80ec8>,\n",
       "  <matplotlib.axis.XTick at 0x2b5dfc838c8>],\n",
       " <a list of 20 Text xticklabel objects>)"
      ]
     },
     "execution_count": 8,
     "metadata": {},
     "output_type": "execute_result"
    },
    {
     "data": {
      "image/png": "[encoded data removed]",
      "text/plain": [
       "<Figure size 720x720 with 1 Axes>"
      ]
     },
     "metadata": {
      "needs_background": "light"
     },
     "output_type": "display_data"
    }
   ],
   "source": [
    "import matplotlib.pyplot as plt\n",
    "%matplotlib inline\n",
    "\n",
    "index = np.arange(n_epochs)\n",
    "plt.figure(figsize=(10, 10))\n",
    "plt.plot(index, total_loss)\n",
    "plt.xlabel(\"epochs\")\n",
    "plt.ylabel(\"loss\")\n",
    "plt.xticks(index, [i for i in range(1, n_epochs+1)])"
   ]
  },
  {
   "cell_type": "code",
   "execution_count": null,
   "metadata": {},
   "outputs": [],
   "source": []
  }
 ],
 "metadata": {
  "kernelspec": {
   "display_name": "Python 3",
   "language": "python",
   "name": "python3"
  },
  "language_info": {
   "codemirror_mode": {
    "name": "ipython",
    "version": 3
   },
   "file_extension": ".py",
   "mimetype": "text/x-python",
   "name": "python",
   "nbconvert_exporter": "python",
   "pygments_lexer": "ipython3",
   "version": "3.7.4"
  }
 },
 "nbformat": 4,
 "nbformat_minor": 4
}
